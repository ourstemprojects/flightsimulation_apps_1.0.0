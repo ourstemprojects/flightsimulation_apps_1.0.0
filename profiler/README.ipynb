{
 "cells": [
  {
   "cell_type": "markdown",
   "metadata": {},
   "source": [
    "### Flight Simulation Game\n",
    "---\n",
    "\n",
    "\n",
    "# PROFILER\n",
    "---\n",
    "The profiler app creates a graph which is displayed on the scoreboard after a player has finished the game.  The graph shows the target profile overlaid with the player's actual profile.\n",
    "\n",
    "\n",
    "## DESIGN\n",
    "---\n",
    "The profiler application is written in Python, and uses the `matplotlib.pyplot` package to create the profile image.\n",
    "\n",
    "The graphs are stored in the scoreboard program's directory structure; therefore it is essential (on program deployment) the `dir_graph` and `dir_graph_player` [config keys](config.json) are updated with the path to the scoreboard's image directory.  \n",
    "\n",
    "The player's individual profile graph is saved and can be made available to the player upon request.\n",
    "\n",
    "The flow diagram below illustrates the program's design and logic.  \n",
    "\n",
    "![scoreboard design](./readme/flow_profiler.png)\n",
    "\n",
    "\n",
    "### EXAMPLE PROFILE GRAPH\n",
    "Below is an example of the target vs. actual profile graph which is displayed by the scoreboard.  Notice the target 'flight' profile in light grey block, labeled with the different phases of flight.  The player's actual profile is drawn in the heavy blue line.\n",
    "\n",
    "![example profile graph](./readme/example_profile.png)\n",
    "\n",
    "\n",
    "## START THE APP\n",
    "---\n",
    "Follow these steps to start the profiler app:\n",
    "\n",
    "1) Start the program by entering these commands into the CLI:\n",
    "```bash\n",
    "> cd ~/<deployment_directory>/profiler/\n",
    "> python profiler.py\n",
    "```\n",
    "\n",
    "\n",
    "**Note:** If using an SSH session to start the profiler, start the SSH sessions using `ssh -X`, to enable X11 forwarding. Otherwise matplotlib (via tkinter) will throw you a nice `DISPLAY` error as mentioned [here](https://stackoverflow.com/q/37604289/6340496 \"stackoverflow post\").  We will address this issue in an upcoming version."
   ]
  }
 ],
 "metadata": {
  "kernelspec": {
   "display_name": "Python 2",
   "language": "python",
   "name": "python2"
  },
  "language_info": {
   "codemirror_mode": {
    "name": "ipython",
    "version": 2
   },
   "file_extension": ".py",
   "mimetype": "text/x-python",
   "name": "python",
   "nbconvert_exporter": "python",
   "pygments_lexer": "ipython2",
   "version": "2.7.13"
  }
 },
 "nbformat": 4,
 "nbformat_minor": 2
}
