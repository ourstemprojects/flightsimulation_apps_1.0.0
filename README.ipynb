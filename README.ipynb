{
 "cells": [
  {
   "cell_type": "markdown",
   "metadata": {},
   "source": [
    "### Flight Simulation Game\n",
    "---\n",
    "\n",
    "# APPS\n",
    "---\n",
    "The apps associated with the Flight Simulation Game are listed in the table below, along with a brief description.  \n",
    "\n",
    "App | Description \n",
    ":--- | :---\n",
    "registration | Service which runs the player's registration, via a web UI\n",
    "scoreboard | Service which displays the game's scoreboard, via a web UI\n",
    "profiler | Service which creates the player's profile graph for display on the scoreboard\n",
    "\n",
    "These three apps are bundled in this repo for easy deployment and use.  For setup and user guidance, refer to the game's [Operation Guide](./_docs/Operations_Guide.pdf \"link to the operations guide in this repo\").  For deployment guidance, refer to the DEPLOYMENT section of this document.\n",
    "\n",
    "\n",
    "## ENVIRONMENT\n",
    "---\n",
    "This game package was designed to run in a Linux environment, however much of the development for the apps bundle was done in Windows.  As such, we are *relatively* confident the game as a whole will also run in Windows, but have not tested this extensively.\n",
    "\n",
    "\n",
    "## FULL STACK DESIGN\n",
    "---\n",
    "The design for the full game stack is shown in the flow image below.  \n",
    "\n",
    "**Note:** the design below show four PCs being used; however, with this bundle, the game can be run on two or three, depending on your available setup.\n",
    "\n",
    "PC | Use\n",
    ":--- | :---\n",
    "RasPi | Runs the game app\n",
    "PC-1 | Runs the database, registration, scoreboard and profiler services\n",
    "PC-2 | Displaying the web UIs for player registration and the scoreboard.  However, this is optional and the web UIs can be run from PC-1\n",
    "\n",
    "![](./_design/flow_full_stack.png)\n",
    "\n",
    "## DEPLOYMENT\n",
    "---\n",
    "Here are some basic steps for deploying this app bundle to your local environment.  Just as a reminder, please be sure to check and update each app's config files; which come in the forms of `config.json` and `db_config.json`.\n",
    "\n",
    "**Note:** Update x.x.x to the version number you want to clone.\n",
    "\n",
    "1) Clone the package from GitHub:\n",
    "```bash\n",
    " > git clone https://github.com/ourstemprojects/flightsimulation_apps_x.x.x ~/<deployment_directory> \n",
    "```\n",
    "\n",
    "2) For **all apps**: \n",
    "   - Update `db_config.json` with your database IP and login credentials\n",
    "\n",
    "3) For the **profiler** app only:\n",
    "   - Check / update the `dir_graph` and `dir_graph_player` keys in `config.json` to ensure these keys map to the **scoreboard** app's `./static/images` path"
   ]
  }
 ],
 "metadata": {
  "kernelspec": {
   "display_name": "Python 2",
   "language": "python",
   "name": "python2"
  },
  "language_info": {
   "codemirror_mode": {
    "name": "ipython",
    "version": 2
   },
   "file_extension": ".py",
   "mimetype": "text/x-python",
   "name": "python",
   "nbconvert_exporter": "python",
   "pygments_lexer": "ipython2",
   "version": "2.7.13"
  }
 },
 "nbformat": 4,
 "nbformat_minor": 2
}
